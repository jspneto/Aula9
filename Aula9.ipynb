{
 "cells": [
  {
   "cell_type": "code",
   "execution_count": 2,
   "metadata": {
    "collapsed": true
   },
   "outputs": [],
   "source": [
    "import numpy as np"
   ]
  },
  {
   "cell_type": "markdown",
   "metadata": {},
   "source": [
    "MELHORIA 1:\n",
    "\n",
    "1. Se o elemento abaixo do pivô for zero, continue.\n",
    "2. Se um dos pivôs for zero, mostrar uma mensagem de erro."
   ]
  },
  {
   "cell_type": "code",
   "execution_count": 78,
   "metadata": {
    "collapsed": true
   },
   "outputs": [],
   "source": [
    "# Dado um sistema S, representado por uma matriz M de ordem N e por uma matriz resultado R de ordem Nx1, o algoritmo\n",
    "# abaixo pega essas matrizes e retorna a matriz triangular equivalente a M e sua matriz resultado correspondente\n",
    "\n",
    "# Aplicando a melhoria 1\n",
    "\n",
    "def escalonamento(a,b,n):\n",
    "    for k in range(n-1):\n",
    "        for i in range(k+1,n):\n",
    "            if a[i,k] == 0: continue\n",
    "            if a[i,k] == 0: print(\"A iteração \", k, \" não deveria ser executada\")\n",
    "            m = a[i,k]/a[k,k]\n",
    "            a[i,k] = 0\n",
    "            for j in range(k+1,n):\n",
    "                a[i,j] = a[i,j] - m*a[k,j]\n",
    "            b[i,0] = b[i,0] - m*b[k,0]"
   ]
  },
  {
   "cell_type": "code",
   "execution_count": 80,
   "metadata": {
    "scrolled": true
   },
   "outputs": [
    {
     "name": "stdout",
     "output_type": "stream",
     "text": [
      "\n",
      " [[  1   2   1]\n",
      " [  0   1  -1]\n",
      " [  0   0 -12]]\n",
      "\n",
      " [[  9]\n",
      " [  3]\n",
      " [-10]]\n"
     ]
    }
   ],
   "source": [
    "# Sistema de exemplo:\n",
    "#\n",
    "# 1*x1 + 2*x2 + 1*x3 =  9\n",
    "# 2*x1 + 1*x2 - 1*x3 =  3 ==> 2*x1 será substituído por 0*x1\n",
    "# 3*x1 - 1*x2 - 2*x3 = -4\n",
    "\n",
    "O = np.matrix([[1,2,1],[0,1,-1],[3,-1,-2]])\n",
    "P = np.matrix([[9],[3],[-4]])\n",
    "\n",
    "escalonamento(O,P,3)\n",
    "print(\"\\n\", O)\n",
    "print(\"\\n\", P)"
   ]
  },
  {
   "cell_type": "code",
   "execution_count": 88,
   "metadata": {
    "collapsed": true
   },
   "outputs": [],
   "source": [
    "# Dado um sistema S, representado por uma matriz M de ordem N e por uma matriz resultado R de ordem Nx1, o algoritmo\n",
    "# abaixo pega essas matrizes e retorna a matriz triangular equivalente a M e sua matriz resultado correspondente\n",
    "\n",
    "# Aplicando a melhoria 2\n",
    "\n",
    "def escalonamento2(a,b,n):\n",
    "    for k in range(n-1):\n",
    "        if a[k,k] == 0:\n",
    "            print(\"Pivô 0\")\n",
    "            break\n",
    "        for i in range(k+1,n):\n",
    "            if a[i,k] == 0: continue\n",
    "            if a[i,k] == 0: print(\"A iteração \", k, \" não deveria ser executada\")\n",
    "            m = a[i,k]/a[k,k]\n",
    "            a[i,k] = 0\n",
    "            for j in range(k+1,n):\n",
    "                a[i,j] = a[i,j] - m*a[k,j]\n",
    "            b[i,0] = b[i,0] - m*b[k,0]"
   ]
  },
  {
   "cell_type": "code",
   "execution_count": 90,
   "metadata": {},
   "outputs": [
    {
     "name": "stdout",
     "output_type": "stream",
     "text": [
      "Pivô 0\n",
      "\n",
      " [[ 0  2  1]\n",
      " [ 2  1 -1]\n",
      " [ 3 -1 -2]]\n",
      "\n",
      " [[ 9]\n",
      " [ 3]\n",
      " [-4]]\n"
     ]
    }
   ],
   "source": [
    "# Sistema de exemplo:\n",
    "#\n",
    "# 1*x1 + 2*x2 + 1*x3 =  9 ==> 1*x1 será substituído por 0*x1\n",
    "# 2*x1 + 1*x2 - 1*x3 =  3\n",
    "# 3*x1 - 1*x2 - 2*x3 = -4\n",
    "\n",
    "O = np.matrix([[0,2,1],[2,1,-1],[3,-1,-2]])\n",
    "P = np.matrix([[9],[3],[-4]])\n",
    "\n",
    "escalonamento2(O,P,3)\n",
    "print(\"\\n\", O)\n",
    "print(\"\\n\", P)"
   ]
  },
  {
   "cell_type": "code",
   "execution_count": 91,
   "metadata": {},
   "outputs": [
    {
     "name": "stdout",
     "output_type": "stream",
     "text": [
      "[[ 3  2  4 -1]\n",
      " [ 0  1  0  3]\n",
      " [ 0 -3 -5  7]\n",
      " [ 0  2  4  0]]\n",
      "n  3 \n",
      "\n",
      "[[-3]\n",
      " [ 2]]\n",
      "colAbs \n",
      " [[3]\n",
      " [2]]\n",
      "0\n",
      "2\n",
      "[[0 1 0 3]]\n",
      "[[ 3  2  4 -1]\n",
      " [ 0 -3 -5  7]\n",
      " [ 0  1  0  3]\n",
      " [ 0  2  4  0]]\n"
     ]
    }
   ],
   "source": [
    "Amat  = np.matrix([[3, 2, 4, -1], [0, 1, 0, 3], [0, -3, -5, 7], [0, 2, 4, 0] ])\n",
    "Aarr  = np.array([[3, 2, 4, -1], [0, 1, 0, 3], [0, -3, -5, 7], [0, 2, 4, 0] ])\n",
    "\n",
    "\n",
    "A = Amat\n",
    "print(A)\n",
    "\n",
    "k = 1\n",
    "i = 2\n",
    "n = np.shape(A)[0] - 1#último index\n",
    "print('n ', n, '\\n')\n",
    "\n",
    "#slicing\n",
    "print( np.array( A[ i : n + 1, k ] ) )\n",
    "\n",
    "#Localizando o  maior valor na coluna do pivô, depois do pivô\n",
    "col = A[ i : n + 1, k ]\n",
    "\n",
    "colAbs = np.abs( col )\n",
    "print( 'colAbs \\n', colAbs )\n",
    "\n",
    "indexMax = np.argmax( colAbs )\n",
    "print( indexMax )\n",
    "\n",
    "\n",
    "#Trocando a coluna\n",
    "iChange = indexMax + i\n",
    "print( iChange )\n",
    "\n",
    "aux = np.copy( A[ k, : ] )\n",
    "print( aux )\n",
    "\n",
    "A[ k, : ] = np.copy( A[ iChange, : ] )\n",
    "A[ iChange, : ] = np.copy( aux )\n",
    "\n",
    "print(A)"
   ]
  }
 ],
 "metadata": {
  "kernelspec": {
   "display_name": "Python 3",
   "language": "python",
   "name": "python3"
  },
  "language_info": {
   "codemirror_mode": {
    "name": "ipython",
    "version": 3
   },
   "file_extension": ".py",
   "mimetype": "text/x-python",
   "name": "python",
   "nbconvert_exporter": "python",
   "pygments_lexer": "ipython3",
   "version": "3.6.2"
  }
 },
 "nbformat": 4,
 "nbformat_minor": 2
}
